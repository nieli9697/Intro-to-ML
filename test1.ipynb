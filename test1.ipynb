{
 "cells": [
  {
   "cell_type": "code",
   "execution_count": 14,
   "metadata": {},
   "outputs": [],
   "source": [
    "import pandas as pd\n",
    "\n",
    "fields = ['Country Name', 'Country Code', 'Indicator Name', 'Indicator Code', '2000', '2005', '2010']\n",
    "df = pd.read_csv('WDI.csv', usecols=fields)"
   ]
  },
  {
   "cell_type": "code",
   "execution_count": 15,
   "metadata": {
    "scrolled": true
   },
   "outputs": [],
   "source": [
    "df1 = df[:46]\n"
   ]
  },
  {
   "cell_type": "code",
   "execution_count": 16,
   "metadata": {
    "scrolled": true
   },
   "outputs": [],
   "source": [
    "df2 = df[46:]\n"
   ]
  },
  {
   "cell_type": "code",
   "execution_count": null,
   "metadata": {},
   "outputs": [],
   "source": [
    "import numpy as np\n",
    "from matplotlib import pyplot as plt\n",
    "\n",
    "year = [2000, 2005, 2010]\n",
    "data1 = [9.66, 11.42, 11.71]\n",
    "data2 = [1.85, 2.39, 2.60]\n",
    "radius1 = [i*7 for i in data1]\n",
    "radius2 = [i*12 for i in data2]\n",
    "x = [radius1[0]]\n",
    "\n",
    "for i in range(len(radius1)):\n",
    "    try:\n",
    "        x.append(radius1[i]+radius1[i+1]+x[-1])\n",
    "    except:\n",
    "        continue \n",
    "y=[100 for i in range(0,7)]\n",
    "xy=[i for i in zip(x,y)]     \n",
    "\n",
    "fig=plt.figure(figsize=[20,20],facecolor=(0,47/255,99/255))\n",
    "ax=fig.add_subplot(1,1,1,facecolor=(0,47/255,99/255))\n",
    "ax.axis('off')\n",
    "plt.yticks(range(-100,900,100), fontsize=14.5)\n",
    "plt.xticks(range(-100,900,100), fontsize=14.5)\n",
    "for i in range(len(x)):\n",
    "    circ=plt.Circle(xy=xy[i],radius=radius1[i],color='w')\n",
    "    ax.add_patch(circ)\n",
    "for i in range(len(x)):\n",
    "    circ=plt.Circle(xy=xy[i],radius=radius2[i],color=(58/255,94/255,148/255))\n",
    "    ax.add_patch(circ)\n",
    "pgon1=plt.Polygon([[-100,100],[800,100],[800,300],[-100,300]],color=(0,47/255,99/255))\n",
    "pgon3=plt.Polygon([[0,140],[880,140]],color='w')#白色的线\n",
    "ax.add_patch(pgon1)\n",
    "ax.add_patch(pgon3)\n",
    "for i in range(len(x)):\n",
    "    plt.text(x=x[i],y=y[i]+15,s='%s'%year[i],color='w',ha='center',va='bottom',fontsize=14.5)\n",
    "\n",
    "for i in range(len(x)):\n",
    "    plt.text(x=x[i],y=y[i]-0.8*radius1[i],s='%s'%data1[i],color=(0,47/255,99/255),ha='center',va='bottom',fontsize=14.5)\n",
    "\n",
    "for i in range(len(x)):\n",
    "    plt.text(x=x[i],y=y[i]-1.1*radius2[i],s='%s'%data2[i],color=(0,47/255,99/255),ha='center',va='top',fontsize=11.5)\n",
    "\n",
    "plt.savefig('test.png')"
   ]
  },
  {
   "cell_type": "code",
   "execution_count": null,
   "metadata": {},
   "outputs": [],
   "source": [
    "import numpy as np\n",
    "from matplotlib import pyplot as plt\n",
    "\n",
    "name_list = list(df1['Country Code'])\n",
    "num_list = list(df1['2000'])\n",
    "num_list1 = list(df1['2005'])\n",
    "num_list2 = list(df1['2010'])\n",
    "\n",
    "\n",
    "x =np.arange(len(num_list))\n",
    "total_width, n = 0.6, 3\n",
    "width = total_width / n\n",
    "fig = plt.figure(figsize=[60, 20])\n",
    "\n",
    "plt.bar(x-width, num_list, width=width, label='2000',fc = 'y')\n",
    "\n",
    "plt.bar(x, num_list1, width=width, label='2005',tick_label = name_list,fc = 'r')\n",
    "\n",
    "plt.bar(x+width, num_list1, width=width, label='2010',tick_label = name_list,fc = 'g')\n",
    "\n",
    "plt.tick_params(axis='both', labelsize=25)\n",
    "plt.xlabel(\"District\", fontsize=25)\n",
    "plt.ylabel(\"Proportion\", fontsize=25)\n",
    "plt.title(\"Proportion of population spending more than 10% of household consumption or income on out-of-pocket health care expenditure(%)\", fontsize=50)\n",
    "plt.legend(prop={'size': 25})\n",
    "plt.savefig('10%.png')"
   ]
  },
  {
   "cell_type": "code",
   "execution_count": 17,
   "metadata": {},
   "outputs": [
    {
     "data": {
      "text/plain": [
       "interactive(children=(Dropdown(description='Area:', options=('All', 'Arab World', 'Caribbean small states', 'C…"
      ]
     },
     "metadata": {},
     "output_type": "display_data"
    }
   ],
   "source": [
    "import plotly.graph_objects as go\n",
    "from ipywidgets import widgets, interactive\n",
    "\n",
    "area = widgets.Dropdown(\n",
    "    options=['All'] + list(df1['Country Name'].unique()),\n",
    "    value='All',\n",
    "    description='Area:',\n",
    ")\n",
    "\n",
    "def plotit(area):\n",
    "    if area != 'All':\n",
    "        df11 = df1[df1['Country Name'] == area]\n",
    "    else:\n",
    "        df11 = df1\n",
    "    \n",
    "    name_list = list(df11['Country Code'])\n",
    "    num_list = list(df11['2000'])\n",
    "    num_list1 = list(df11['2005'])\n",
    "    num_list2 = list(df11['2010'])\n",
    "    \n",
    "    fig = go.Figure(data=[\n",
    "        go.Bar(name='2000', x=name_list, y=num_list),\n",
    "        go.Bar(name='2005', x=name_list, y=num_list1),\n",
    "        go.Bar(name='2010', x=name_list, y=num_list2),\n",
    "    ])\n",
    "\n",
    "    fig.update_layout(barmode='group', xaxis_tickangle=-45)\n",
    "    fig.show()\n",
    "\n",
    "interactive(plotit, area=area)"
   ]
  },
  {
   "cell_type": "code",
   "execution_count": null,
   "metadata": {},
   "outputs": [],
   "source": [
    "area=list([\n",
    "    dict(\n",
    "        args=[ {\n",
    "            'mapbox.center.lat':38,\n",
    "            'mapbox.center.lon':-94,\n",
    "            'mapbox.zoom':3,\n",
    "            'annotations[0].text':'All areas (scroll to zoom)'\n",
    "        } ],\n",
    "        label='All',\n",
    "        method='relayout'\n",
    "    )\n",
    "])\n",
    "\n",
    "for i in range(len(df1)):\n",
    "    area.append(\n",
    "        dict(\n",
    "            args=[ {\n",
    "                'mapbox.center.lat':row['Latitude'],\n",
    "                'mapbox.center.lon':float(str(row['Longitude']).strip(\"'\")),\n",
    "                'mapbox.zoom':9,\n",
    "                'annotations[0].text': '<br>'.join(desc)\n",
    "            } ],\n",
    "            label=' '.join(df1.iloc[i]['Country Name']),\n",
    "            method='relayout'\n",
    "        )\n",
    "    )"
   ]
  },
  {
   "cell_type": "code",
   "execution_count": null,
   "metadata": {},
   "outputs": [],
   "source": []
  },
  {
   "cell_type": "code",
   "execution_count": null,
   "metadata": {},
   "outputs": [],
   "source": [
    "name_list = list(df2['Country Code'])\n",
    "num_list = list(df2['2000'])\n",
    "num_list1 = list(df2['2005'])\n",
    "num_list2 = list(df2['2010'])\n",
    "\n",
    "\n",
    "x =np.arange(len(num_list))\n",
    "total_width, n = 0.6, 3\n",
    "width = total_width / n\n",
    "fig = plt.figure(figsize=[60, 20])\n",
    "\n",
    "plt.bar(x-width, num_list, width=width, label='2000',fc = 'y')\n",
    "\n",
    "plt.bar(x, num_list1, width=width, label='2005',tick_label = name_list,fc = 'r')\n",
    "\n",
    "plt.bar(x+width, num_list1, width=width, label='2010',tick_label = name_list,fc = 'g')\n",
    "\n",
    "plt.tick_params(axis='both', labelsize=25)\n",
    "plt.xlabel(\"District\", fontsize=25)\n",
    "plt.ylabel(\"Proportion\", fontsize=25)\n",
    "plt.title(\"Proportion of population spending more than 25% of household consumption or income on out-of-pocket health care expenditure(%)\", fontsize=50)\n",
    "plt.legend(prop={'size': 25})\n",
    "plt.savefig('25%.png')"
   ]
  },
  {
   "cell_type": "code",
   "execution_count": null,
   "metadata": {},
   "outputs": [],
   "source": [
    "import plotly.graph_objects as go\n",
    "animals=['giraffes', 'orangutans', 'monkeys']\n",
    "\n",
    "fig = go.Figure(data=[\n",
    "    go.Bar(name='SF Zoo', x=animals, y=[20, 14, 23]),\n",
    "    go.Bar(name='LA Zoo', x=animals, y=[12, 18, 29])\n",
    "])\n",
    "# Change the bar mode\n",
    "fig.update_layout(barmode='group')\n",
    "fig.show()"
   ]
  },
  {
   "cell_type": "code",
   "execution_count": null,
   "metadata": {},
   "outputs": [],
   "source": []
  },
  {
   "cell_type": "code",
   "execution_count": null,
   "metadata": {},
   "outputs": [],
   "source": []
  },
  {
   "cell_type": "code",
   "execution_count": null,
   "metadata": {},
   "outputs": [],
   "source": []
  }
 ],
 "metadata": {
  "kernelspec": {
   "display_name": "Python 3.6",
   "language": "python",
   "name": "python36"
  },
  "language_info": {
   "codemirror_mode": {
    "name": "ipython",
    "version": 3
   },
   "file_extension": ".py",
   "mimetype": "text/x-python",
   "name": "python",
   "nbconvert_exporter": "python",
   "pygments_lexer": "ipython3",
   "version": "3.6.6"
  }
 },
 "nbformat": 4,
 "nbformat_minor": 2
}
