{
 "cells": [
  {
   "cell_type": "code",
   "execution_count": 1,
   "metadata": {},
   "outputs": [],
   "source": [
    "from sklearn.datasets import fetch_openml\n",
    "from sklearn.datasets import fetch_lfw_people\n",
    "from sklearn.model_selection import train_test_split"
   ]
  },
  {
   "cell_type": "code",
   "execution_count": 2,
   "metadata": {},
   "outputs": [
    {
     "name": "stdout",
     "output_type": "stream",
     "text": [
      "Number samples in training: 45500\n",
      "Number samples in testing: 24500\n"
     ]
    }
   ],
   "source": [
    "mnist = fetch_openml('mnist_784')\n",
    "X_train, X_test, y_train, y_test = train_test_split(mnist.data, mnist.target, test_size = 0.35, random_state = 0)\n",
    "print(\"Number samples in training:\", len(X_train))\n",
    "print(\"Number samples in testing:\", len(X_test))"
   ]
  },
  {
   "cell_type": "code",
   "execution_count": 3,
   "metadata": {},
   "outputs": [
    {
     "name": "stdout",
     "output_type": "stream",
     "text": [
      "Number samples in training: 876\n",
      "Number samples in testing: 472\n"
     ]
    }
   ],
   "source": [
    "faces = fetch_lfw_people(min_faces_per_person = 60)\n",
    "X_train1, X_test1, y_train1, y_test1 = train_test_split(faces.data, faces.target, test_size = 0.35, random_state = 0)\n",
    "print(\"Number samples in training:\", len(X_train1))\n",
    "print(\"Number samples in testing:\", len(X_test1))"
   ]
  },
  {
   "cell_type": "code",
   "execution_count": 4,
   "metadata": {},
   "outputs": [],
   "source": [
    "from sklearn.decomposition import PCA\n",
    "from sklearn.metrics import accuracy_score\n",
    "\n",
    "#Define a function that helps apply PCA on the two datasets using GaussianNB and DecisionTree models\n",
    "accuracy_1, accuracy_2 = [], []\n",
    "def dimensionality_reduction (model, X_training, X_testing, y_training, y_testing):\n",
    "    for n in range(2, 22):\n",
    "        pca = PCA(n_components = n)\n",
    "        pca.fit(X_training)\n",
    "        X_train_reduced = pca.transform(X_training)\n",
    "        X_test_reduced = pca.transform(X_testing)\n",
    "    \n",
    "        model.fit(X_train_reduced, y_training)\n",
    "        y_pred = model.predict(X_test_reduced)\n",
    "        test_accuracy = accuracy_score(y_testing, y_pred)\n",
    "        \n",
    "        if model == gaussian_clf:\n",
    "            accuracy_1.append(test_accuracy)\n",
    "        else:\n",
    "            accuracy_2.append(test_accuracy)\n",
    "        print(\"Feature dimension size:\", n)\n",
    "        print(\"Test set accuracy: {:.4f}\\n\".format(test_accuracy))"
   ]
  },
  {
   "cell_type": "code",
   "execution_count": 5,
   "metadata": {
    "scrolled": true
   },
   "outputs": [
    {
     "name": "stdout",
     "output_type": "stream",
     "text": [
      "Feature dimension size: 2\n",
      "Test set accuracy: 0.4386\n",
      "\n",
      "Feature dimension size: 3\n",
      "Test set accuracy: 0.4602\n",
      "\n",
      "Feature dimension size: 4\n",
      "Test set accuracy: 0.5565\n",
      "\n",
      "Feature dimension size: 5\n",
      "Test set accuracy: 0.6470\n",
      "\n",
      "Feature dimension size: 6\n",
      "Test set accuracy: 0.7029\n",
      "\n",
      "Feature dimension size: 7\n",
      "Test set accuracy: 0.7239\n",
      "\n",
      "Feature dimension size: 8\n",
      "Test set accuracy: 0.7555\n",
      "\n",
      "Feature dimension size: 9\n",
      "Test set accuracy: 0.7570\n",
      "\n",
      "Feature dimension size: 10\n",
      "Test set accuracy: 0.7691\n",
      "\n",
      "Feature dimension size: 11\n",
      "Test set accuracy: 0.7721\n",
      "\n",
      "Feature dimension size: 12\n",
      "Test set accuracy: 0.7847\n",
      "\n",
      "Feature dimension size: 13\n",
      "Test set accuracy: 0.7947\n",
      "\n",
      "Feature dimension size: 14\n",
      "Test set accuracy: 0.8026\n",
      "\n",
      "Feature dimension size: 15\n",
      "Test set accuracy: 0.8035\n",
      "\n",
      "Feature dimension size: 16\n",
      "Test set accuracy: 0.8166\n",
      "\n",
      "Feature dimension size: 17\n",
      "Test set accuracy: 0.8225\n",
      "\n",
      "Feature dimension size: 18\n",
      "Test set accuracy: 0.8267\n",
      "\n",
      "Feature dimension size: 19\n",
      "Test set accuracy: 0.8323\n",
      "\n",
      "Feature dimension size: 20\n",
      "Test set accuracy: 0.8395\n",
      "\n",
      "Feature dimension size: 21\n",
      "Test set accuracy: 0.8414\n",
      "\n"
     ]
    }
   ],
   "source": [
    "from sklearn.naive_bayes import GaussianNB\n",
    "\n",
    "gaussian_clf = GaussianNB()\n",
    "dimensionality_reduction(gaussian_clf, X_train, X_test, y_train, y_test)"
   ]
  },
  {
   "cell_type": "code",
   "execution_count": 6,
   "metadata": {
    "scrolled": true
   },
   "outputs": [
    {
     "data": {
      "text/plain": [
       "[0.43865306122448977,\n",
       " 0.4602040816326531,\n",
       " 0.5564897959183673,\n",
       " 0.6469795918367347,\n",
       " 0.7029387755102041,\n",
       " 0.7238775510204082,\n",
       " 0.7555102040816326,\n",
       " 0.7569795918367347,\n",
       " 0.7691020408163265,\n",
       " 0.7721632653061224,\n",
       " 0.7847755102040816,\n",
       " 0.7944897959183673,\n",
       " 0.8023673469387755,\n",
       " 0.8036734693877551,\n",
       " 0.8166122448979591,\n",
       " 0.8225714285714286,\n",
       " 0.8266530612244898,\n",
       " 0.8321224489795919,\n",
       " 0.839469387755102,\n",
       " 0.8415510204081633]"
      ]
     },
     "execution_count": 6,
     "metadata": {},
     "output_type": "execute_result"
    }
   ],
   "source": [
    "accuracy_1"
   ]
  },
  {
   "cell_type": "code",
   "execution_count": 7,
   "metadata": {
    "scrolled": true
   },
   "outputs": [
    {
     "name": "stdout",
     "output_type": "stream",
     "text": [
      "Feature dimension size: 2\n",
      "Test set accuracy: 0.3778\n",
      "\n",
      "Feature dimension size: 3\n",
      "Test set accuracy: 0.4298\n",
      "\n",
      "Feature dimension size: 4\n",
      "Test set accuracy: 0.5571\n",
      "\n",
      "Feature dimension size: 5\n",
      "Test set accuracy: 0.6635\n",
      "\n",
      "Feature dimension size: 6\n",
      "Test set accuracy: 0.7473\n",
      "\n",
      "Feature dimension size: 7\n",
      "Test set accuracy: 0.7797\n",
      "\n",
      "Feature dimension size: 8\n",
      "Test set accuracy: 0.8007\n",
      "\n",
      "Feature dimension size: 9\n",
      "Test set accuracy: 0.8078\n",
      "\n",
      "Feature dimension size: 10\n",
      "Test set accuracy: 0.8169\n",
      "\n",
      "Feature dimension size: 11\n",
      "Test set accuracy: 0.8205\n",
      "\n",
      "Feature dimension size: 12\n",
      "Test set accuracy: 0.8236\n",
      "\n",
      "Feature dimension size: 13\n",
      "Test set accuracy: 0.8276\n",
      "\n",
      "Feature dimension size: 14\n",
      "Test set accuracy: 0.8336\n",
      "\n",
      "Feature dimension size: 15\n",
      "Test set accuracy: 0.8335\n",
      "\n",
      "Feature dimension size: 16\n",
      "Test set accuracy: 0.8349\n",
      "\n",
      "Feature dimension size: 17\n",
      "Test set accuracy: 0.8356\n",
      "\n",
      "Feature dimension size: 18\n",
      "Test set accuracy: 0.8372\n",
      "\n",
      "Feature dimension size: 19\n",
      "Test set accuracy: 0.8352\n",
      "\n",
      "Feature dimension size: 20\n",
      "Test set accuracy: 0.8351\n",
      "\n",
      "Feature dimension size: 21\n",
      "Test set accuracy: 0.8368\n",
      "\n"
     ]
    }
   ],
   "source": [
    "from sklearn.tree import DecisionTreeClassifier\n",
    "\n",
    "tree_clf = DecisionTreeClassifier()\n",
    "dimensionality_reduction(tree_clf, X_train, X_test, y_train, y_test)"
   ]
  },
  {
   "cell_type": "code",
   "execution_count": 8,
   "metadata": {
    "scrolled": true
   },
   "outputs": [
    {
     "data": {
      "text/plain": [
       "[0.37779591836734694,\n",
       " 0.42983673469387756,\n",
       " 0.5570612244897959,\n",
       " 0.663469387755102,\n",
       " 0.7473061224489795,\n",
       " 0.7796734693877551,\n",
       " 0.8006530612244898,\n",
       " 0.8078367346938775,\n",
       " 0.8168571428571428,\n",
       " 0.820530612244898,\n",
       " 0.8235918367346938,\n",
       " 0.8275510204081633,\n",
       " 0.8335510204081633,\n",
       " 0.8335102040816327,\n",
       " 0.8349387755102041,\n",
       " 0.8356326530612245,\n",
       " 0.8372244897959183,\n",
       " 0.8351836734693877,\n",
       " 0.8350612244897959,\n",
       " 0.8368163265306122]"
      ]
     },
     "execution_count": 8,
     "metadata": {},
     "output_type": "execute_result"
    }
   ],
   "source": [
    "accuracy_2"
   ]
  },
  {
   "cell_type": "code",
   "execution_count": 9,
   "metadata": {},
   "outputs": [],
   "source": [
    "import numpy as np\n",
    "import matplotlib.pyplot as plt\n",
    "%matplotlib inline\n",
    "\n",
    "def plotting ():\n",
    "    plt.plot(accuracy_1, \"r^\", linewidth = 2, label = \"GaussianNB\")\n",
    "    plt.plot(accuracy_2, \"b*\", linewidth = 2, label = \"DecisionTree\")\n",
    "    plt.xlim(0, 21)\n",
    "    plt.ylim(0, 1)\n",
    "    my_x_ticks = np.arange(0, 21, 1)\n",
    "    my_y_ticks = np.arange(0, 1, 0.1)\n",
    "    plt.xticks(my_x_ticks)\n",
    "    plt.yticks(my_y_ticks)\n",
    "    plt.title(\"Predictive performance\")\n",
    "    plt.xlabel(\"Iteration of feature dimension sizes\")\n",
    "    plt.ylabel(\"Accuracy\")\n",
    "    plt.legend()\n",
    "    plt.grid()\n",
    "    plt.show()"
   ]
  },
  {
   "cell_type": "code",
   "execution_count": 10,
   "metadata": {},
   "outputs": [
    {
     "data": {
      "image/png": "[encoded data removed]",
      "text/plain": [
       "<Figure size 432x288 with 1 Axes>"
      ]
     },
     "metadata": {
      "needs_background": "light"
     },
     "output_type": "display_data"
    }
   ],
   "source": [
    "plotting()"
   ]
  },
  {
   "cell_type": "code",
   "execution_count": 11,
   "metadata": {},
   "outputs": [],
   "source": [
    "#Clear the precious accuracies\n",
    "accuracy_1, accuracy_2 = [], []"
   ]
  },
  {
   "cell_type": "code",
   "execution_count": 12,
   "metadata": {
    "scrolled": true
   },
   "outputs": [
    {
     "name": "stdout",
     "output_type": "stream",
     "text": [
      "Feature dimension size: 2\n",
      "Test set accuracy: 0.4047\n",
      "\n",
      "Feature dimension size: 3\n",
      "Test set accuracy: 0.4068\n",
      "\n",
      "Feature dimension size: 4\n",
      "Test set accuracy: 0.4343\n",
      "\n",
      "Feature dimension size: 5\n",
      "Test set accuracy: 0.4386\n",
      "\n",
      "Feature dimension size: 6\n",
      "Test set accuracy: 0.4449\n",
      "\n",
      "Feature dimension size: 7\n",
      "Test set accuracy: 0.4492\n",
      "\n",
      "Feature dimension size: 8\n",
      "Test set accuracy: 0.4597\n",
      "\n",
      "Feature dimension size: 9\n",
      "Test set accuracy: 0.4640\n",
      "\n",
      "Feature dimension size: 10\n",
      "Test set accuracy: 0.4809\n",
      "\n",
      "Feature dimension size: 11\n",
      "Test set accuracy: 0.4958\n",
      "\n",
      "Feature dimension size: 12\n",
      "Test set accuracy: 0.5254\n",
      "\n",
      "Feature dimension size: 13\n",
      "Test set accuracy: 0.5360\n",
      "\n",
      "Feature dimension size: 14\n",
      "Test set accuracy: 0.5360\n",
      "\n",
      "Feature dimension size: 15\n",
      "Test set accuracy: 0.5530\n",
      "\n",
      "Feature dimension size: 16\n",
      "Test set accuracy: 0.5996\n",
      "\n",
      "Feature dimension size: 17\n",
      "Test set accuracy: 0.6229\n",
      "\n",
      "Feature dimension size: 18\n",
      "Test set accuracy: 0.6165\n",
      "\n",
      "Feature dimension size: 19\n",
      "Test set accuracy: 0.6123\n",
      "\n",
      "Feature dimension size: 20\n",
      "Test set accuracy: 0.6356\n",
      "\n",
      "Feature dimension size: 21\n",
      "Test set accuracy: 0.6377\n",
      "\n"
     ]
    }
   ],
   "source": [
    "dimensionality_reduction(gaussian_clf, X_train1, X_test1, y_train1, y_test1)"
   ]
  },
  {
   "cell_type": "code",
   "execution_count": 13,
   "metadata": {
    "scrolled": true
   },
   "outputs": [
    {
     "name": "stdout",
     "output_type": "stream",
     "text": [
      "Feature dimension size: 2\n",
      "Test set accuracy: 0.2076\n",
      "\n",
      "Feature dimension size: 3\n",
      "Test set accuracy: 0.2373\n",
      "\n",
      "Feature dimension size: 4\n",
      "Test set accuracy: 0.2691\n",
      "\n",
      "Feature dimension size: 5\n",
      "Test set accuracy: 0.2881\n",
      "\n",
      "Feature dimension size: 6\n",
      "Test set accuracy: 0.3284\n",
      "\n",
      "Feature dimension size: 7\n",
      "Test set accuracy: 0.3284\n",
      "\n",
      "Feature dimension size: 8\n",
      "Test set accuracy: 0.3114\n",
      "\n",
      "Feature dimension size: 9\n",
      "Test set accuracy: 0.3496\n",
      "\n",
      "Feature dimension size: 10\n",
      "Test set accuracy: 0.3686\n",
      "\n",
      "Feature dimension size: 11\n",
      "Test set accuracy: 0.3263\n",
      "\n",
      "Feature dimension size: 12\n",
      "Test set accuracy: 0.4068\n",
      "\n",
      "Feature dimension size: 13\n",
      "Test set accuracy: 0.3983\n",
      "\n",
      "Feature dimension size: 14\n",
      "Test set accuracy: 0.3941\n",
      "\n",
      "Feature dimension size: 15\n",
      "Test set accuracy: 0.4110\n",
      "\n",
      "Feature dimension size: 16\n",
      "Test set accuracy: 0.4470\n",
      "\n",
      "Feature dimension size: 17\n",
      "Test set accuracy: 0.4343\n",
      "\n",
      "Feature dimension size: 18\n",
      "Test set accuracy: 0.4449\n",
      "\n",
      "Feature dimension size: 19\n",
      "Test set accuracy: 0.4428\n",
      "\n",
      "Feature dimension size: 20\n",
      "Test set accuracy: 0.4449\n",
      "\n",
      "Feature dimension size: 21\n",
      "Test set accuracy: 0.4492\n",
      "\n"
     ]
    }
   ],
   "source": [
    "dimensionality_reduction(tree_clf, X_train1, X_test1, y_train1, y_test1)"
   ]
  },
  {
   "cell_type": "code",
   "execution_count": 14,
   "metadata": {},
   "outputs": [
    {
     "data": {
      "image/png": "[encoded data removed]",
      "text/plain": [
       "<Figure size 432x288 with 1 Axes>"
      ]
     },
     "metadata": {
      "needs_background": "light"
     },
     "output_type": "display_data"
    }
   ],
   "source": [
    "plotting()"
   ]
  },
  {
   "cell_type": "code",
   "execution_count": 15,
   "metadata": {},
   "outputs": [
    {
     "name": "stdout",
     "output_type": "stream",
     "text": [
      "type of text_train: <class 'list'>\n",
      "length of text_train: 75000\n",
      "text_train[1]:\n",
      "b\"Amount of disappointment I am getting these days seeing movies like Partner, Jhoom Barabar and now, Heyy Babyy is gonna end my habit of seeing first day shows.<br /><br />The movie is an utter disappointment because it had the potential to become a laugh riot only if the d\\xc3\\xa9butant director, Sajid Khan hadn't tried too many things. Only saving grace in the movie were the last thirty minutes, which were seriously funny elsewhere the movie fails miserably. First half was desperately been tried to look funny but wasn't. Next 45 minutes were emotional and looked totally artificial and illogical.<br /><br />OK, when you are out for a movie like this you don't expect much logic but all the flaws tend to appear when you don't enjoy the movie and thats the case with Heyy Babyy. Acting is good but thats not enough to keep one interested.<br /><br />For the positives, you can take hot actresses, last 30 minutes, some comic scenes, good acting by the lead cast and the baby. Only problem is that these things do not come together properly to make a good movie.<br /><br />Anyways, I read somewhere that It isn't a copy of Three men and a baby but I think it would have been better if it was.\"\n"
     ]
    }
   ],
   "source": [
    "from sklearn.datasets import load_files\n",
    "\n",
    "reviews_train = load_files(\"aclImdb/train/\")\n",
    "text_train, y_train = reviews_train.data, reviews_train.target\n",
    "print(\"type of text_train: {}\".format(type(text_train)))\n",
    "print(\"length of text_train: {}\".format(len(text_train))) \n",
    "print(\"text_train[1]:\\n{}\".format(text_train[1]))"
   ]
  },
  {
   "cell_type": "code",
   "execution_count": 16,
   "metadata": {},
   "outputs": [
    {
     "name": "stdout",
     "output_type": "stream",
     "text": [
      "Samples per class (training): [12500 12500 50000]\n"
     ]
    }
   ],
   "source": [
    "text_train = [doc.replace(b\"<br />\", b\" \") for doc in text_train]\n",
    "print(\"Samples per class (training): {}\".format(np.bincount(y_train)))"
   ]
  },
  {
   "cell_type": "code",
   "execution_count": 17,
   "metadata": {},
   "outputs": [
    {
     "name": "stdout",
     "output_type": "stream",
     "text": [
      "Number of documents in test data: 25000\n",
      "Samples per class (test): [12500 12500]\n"
     ]
    }
   ],
   "source": [
    "reviews_test = load_files(\"aclImdb/test/\")\n",
    "text_test, y_test = reviews_test.data, reviews_test.target \n",
    "print(\"Number of documents in test data: {}\".format(len(text_test))) \n",
    "print(\"Samples per class (test): {}\".format(np.bincount(y_test))) \n",
    "text_test = [doc.replace(b\"<br />\", b\" \") for doc in text_test]"
   ]
  },
  {
   "cell_type": "code",
   "execution_count": 18,
   "metadata": {},
   "outputs": [
    {
     "name": "stdout",
     "output_type": "stream",
     "text": [
      "X_train:\n",
      "<75000x44223 sparse matrix of type '<class 'numpy.int64'>'\n",
      "\twith 6577418 stored elements in Compressed Sparse Row format>\n"
     ]
    }
   ],
   "source": [
    "#Bag of words\n",
    "from sklearn.feature_extraction.text import CountVectorizer\n",
    "from sklearn.feature_extraction.text import ENGLISH_STOP_WORDS\n",
    "\n",
    "vect = CountVectorizer(min_df=5, stop_words=\"english\").fit(text_train) \n",
    "X_train = vect.transform(text_train) \n",
    "print(\"X_train:\\n{}\".format(repr(X_train)))"
   ]
  },
  {
   "cell_type": "code",
   "execution_count": 19,
   "metadata": {},
   "outputs": [
    {
     "name": "stdout",
     "output_type": "stream",
     "text": [
      "Mean cross-validation accuracy: 0.56\n"
     ]
    }
   ],
   "source": [
    "from sklearn.model_selection import cross_val_score\n",
    "\n",
    "scores = cross_val_score(DecisionTreeClassifier(), X_train, y_train, cv=5) \n",
    "print(\"Mean cross-validation accuracy: {:.2f}\".format(np.mean(scores)))"
   ]
  },
  {
   "cell_type": "code",
   "execution_count": 20,
   "metadata": {},
   "outputs": [
    {
     "name": "stderr",
     "output_type": "stream",
     "text": [
      "/anaconda3/lib/python3.7/site-packages/sklearn/linear_model/logistic.py:433: FutureWarning: Default solver will be changed to 'lbfgs' in 0.22. Specify a solver to silence this warning.\n",
      "  FutureWarning)\n",
      "/anaconda3/lib/python3.7/site-packages/sklearn/linear_model/logistic.py:460: FutureWarning: Default multi_class will be changed to 'auto' in 0.22. Specify the multi_class option to silence this warning.\n",
      "  \"this warning.\", FutureWarning)\n",
      "/anaconda3/lib/python3.7/site-packages/sklearn/svm/base.py:931: ConvergenceWarning: Liblinear failed to converge, increase the number of iterations.\n",
      "  \"the number of iterations.\", ConvergenceWarning)\n"
     ]
    },
    {
     "name": "stdout",
     "output_type": "stream",
     "text": [
      "Mean cross-validation accuracy: 0.71\n"
     ]
    }
   ],
   "source": [
    "from sklearn.linear_model import LogisticRegression\n",
    "\n",
    "scores = cross_val_score(LogisticRegression(), X_train, y_train, cv=5) \n",
    "print(\"Mean cross-validation accuracy: {:.2f}\".format(np.mean(scores)))"
   ]
  },
  {
   "cell_type": "code",
   "execution_count": 22,
   "metadata": {},
   "outputs": [
    {
     "name": "stdout",
     "output_type": "stream",
     "text": [
      "Mean cross-validation accuracy: 0.59\n"
     ]
    }
   ],
   "source": [
    "from sklearn.neighbors import KNeighborsClassifier\n",
    "\n",
    "scores = cross_val_score(KNeighborsClassifier(), X_train, y_train, cv=5) \n",
    "print(\"Mean cross-validation accuracy: {:.2f}\".format(np.mean(scores)))"
   ]
  },
  {
   "cell_type": "code",
   "execution_count": 25,
   "metadata": {},
   "outputs": [
    {
     "name": "stderr",
     "output_type": "stream",
     "text": [
      "/anaconda3/lib/python3.7/site-packages/sklearn/linear_model/logistic.py:433: FutureWarning: Default solver will be changed to 'lbfgs' in 0.22. Specify a solver to silence this warning.\n",
      "  FutureWarning)\n",
      "/anaconda3/lib/python3.7/site-packages/sklearn/linear_model/logistic.py:460: FutureWarning: Default multi_class will be changed to 'auto' in 0.22. Specify the multi_class option to silence this warning.\n",
      "  \"this warning.\", FutureWarning)\n",
      "/anaconda3/lib/python3.7/site-packages/sklearn/svm/base.py:931: ConvergenceWarning: Liblinear failed to converge, increase the number of iterations.\n",
      "  \"the number of iterations.\", ConvergenceWarning)\n",
      "/anaconda3/lib/python3.7/site-packages/sklearn/linear_model/logistic.py:433: FutureWarning: Default solver will be changed to 'lbfgs' in 0.22. Specify a solver to silence this warning.\n",
      "  FutureWarning)\n",
      "/anaconda3/lib/python3.7/site-packages/sklearn/linear_model/logistic.py:460: FutureWarning: Default multi_class will be changed to 'auto' in 0.22. Specify the multi_class option to silence this warning.\n",
      "  \"this warning.\", FutureWarning)\n",
      "/anaconda3/lib/python3.7/site-packages/sklearn/svm/base.py:931: ConvergenceWarning: Liblinear failed to converge, increase the number of iterations.\n",
      "  \"the number of iterations.\", ConvergenceWarning)\n",
      "/anaconda3/lib/python3.7/site-packages/sklearn/linear_model/logistic.py:433: FutureWarning: Default solver will be changed to 'lbfgs' in 0.22. Specify a solver to silence this warning.\n",
      "  FutureWarning)\n",
      "/anaconda3/lib/python3.7/site-packages/sklearn/linear_model/logistic.py:460: FutureWarning: Default multi_class will be changed to 'auto' in 0.22. Specify the multi_class option to silence this warning.\n",
      "  \"this warning.\", FutureWarning)\n",
      "/anaconda3/lib/python3.7/site-packages/sklearn/svm/base.py:931: ConvergenceWarning: Liblinear failed to converge, increase the number of iterations.\n",
      "  \"the number of iterations.\", ConvergenceWarning)\n",
      "/anaconda3/lib/python3.7/site-packages/sklearn/linear_model/logistic.py:433: FutureWarning: Default solver will be changed to 'lbfgs' in 0.22. Specify a solver to silence this warning.\n",
      "  FutureWarning)\n",
      "/anaconda3/lib/python3.7/site-packages/sklearn/linear_model/logistic.py:460: FutureWarning: Default multi_class will be changed to 'auto' in 0.22. Specify the multi_class option to silence this warning.\n",
      "  \"this warning.\", FutureWarning)\n",
      "/anaconda3/lib/python3.7/site-packages/sklearn/linear_model/logistic.py:433: FutureWarning: Default solver will be changed to 'lbfgs' in 0.22. Specify a solver to silence this warning.\n",
      "  FutureWarning)\n",
      "/anaconda3/lib/python3.7/site-packages/sklearn/linear_model/logistic.py:460: FutureWarning: Default multi_class will be changed to 'auto' in 0.22. Specify the multi_class option to silence this warning.\n",
      "  \"this warning.\", FutureWarning)\n",
      "/anaconda3/lib/python3.7/site-packages/sklearn/svm/base.py:931: ConvergenceWarning: Liblinear failed to converge, increase the number of iterations.\n",
      "  \"the number of iterations.\", ConvergenceWarning)\n"
     ]
    },
    {
     "data": {
      "text/plain": [
       "0.6643600000000001"
      ]
     },
     "execution_count": 25,
     "metadata": {},
     "output_type": "execute_result"
    }
   ],
   "source": [
    "from sklearn.ensemble import VotingClassifier\n",
    "\n",
    "clf1 = DecisionTreeClassifier()\n",
    "clf2 = LogisticRegression()\n",
    "clf3 = KNeighborsClassifier()\n",
    "eclf = VotingClassifier(estimators = [('dt', clf1), ('lr', clf2), ('knn', clf3)], voting = 'hard')\n",
    "scores = cross_val_score(eclf, X_train, y_train, cv = 5)\n",
    "scores.mean()"
   ]
  },
  {
   "cell_type": "code",
   "execution_count": 26,
   "metadata": {},
   "outputs": [
    {
     "name": "stderr",
     "output_type": "stream",
     "text": [
      "/anaconda3/lib/python3.7/site-packages/sklearn/linear_model/logistic.py:433: FutureWarning: Default solver will be changed to 'lbfgs' in 0.22. Specify a solver to silence this warning.\n",
      "  FutureWarning)\n",
      "/anaconda3/lib/python3.7/site-packages/sklearn/linear_model/logistic.py:460: FutureWarning: Default multi_class will be changed to 'auto' in 0.22. Specify the multi_class option to silence this warning.\n",
      "  \"this warning.\", FutureWarning)\n",
      "/anaconda3/lib/python3.7/site-packages/sklearn/svm/base.py:931: ConvergenceWarning: Liblinear failed to converge, increase the number of iterations.\n",
      "  \"the number of iterations.\", ConvergenceWarning)\n",
      "/anaconda3/lib/python3.7/site-packages/sklearn/linear_model/logistic.py:433: FutureWarning: Default solver will be changed to 'lbfgs' in 0.22. Specify a solver to silence this warning.\n",
      "  FutureWarning)\n",
      "/anaconda3/lib/python3.7/site-packages/sklearn/linear_model/logistic.py:460: FutureWarning: Default multi_class will be changed to 'auto' in 0.22. Specify the multi_class option to silence this warning.\n",
      "  \"this warning.\", FutureWarning)\n",
      "/anaconda3/lib/python3.7/site-packages/sklearn/svm/base.py:931: ConvergenceWarning: Liblinear failed to converge, increase the number of iterations.\n",
      "  \"the number of iterations.\", ConvergenceWarning)\n",
      "/anaconda3/lib/python3.7/site-packages/sklearn/linear_model/logistic.py:433: FutureWarning: Default solver will be changed to 'lbfgs' in 0.22. Specify a solver to silence this warning.\n",
      "  FutureWarning)\n",
      "/anaconda3/lib/python3.7/site-packages/sklearn/linear_model/logistic.py:460: FutureWarning: Default multi_class will be changed to 'auto' in 0.22. Specify the multi_class option to silence this warning.\n",
      "  \"this warning.\", FutureWarning)\n",
      "/anaconda3/lib/python3.7/site-packages/sklearn/svm/base.py:931: ConvergenceWarning: Liblinear failed to converge, increase the number of iterations.\n",
      "  \"the number of iterations.\", ConvergenceWarning)\n",
      "/anaconda3/lib/python3.7/site-packages/sklearn/linear_model/logistic.py:433: FutureWarning: Default solver will be changed to 'lbfgs' in 0.22. Specify a solver to silence this warning.\n",
      "  FutureWarning)\n",
      "/anaconda3/lib/python3.7/site-packages/sklearn/linear_model/logistic.py:460: FutureWarning: Default multi_class will be changed to 'auto' in 0.22. Specify the multi_class option to silence this warning.\n",
      "  \"this warning.\", FutureWarning)\n",
      "/anaconda3/lib/python3.7/site-packages/sklearn/svm/base.py:931: ConvergenceWarning: Liblinear failed to converge, increase the number of iterations.\n",
      "  \"the number of iterations.\", ConvergenceWarning)\n",
      "/anaconda3/lib/python3.7/site-packages/sklearn/linear_model/logistic.py:433: FutureWarning: Default solver will be changed to 'lbfgs' in 0.22. Specify a solver to silence this warning.\n",
      "  FutureWarning)\n",
      "/anaconda3/lib/python3.7/site-packages/sklearn/linear_model/logistic.py:460: FutureWarning: Default multi_class will be changed to 'auto' in 0.22. Specify the multi_class option to silence this warning.\n",
      "  \"this warning.\", FutureWarning)\n",
      "/anaconda3/lib/python3.7/site-packages/sklearn/svm/base.py:931: ConvergenceWarning: Liblinear failed to converge, increase the number of iterations.\n",
      "  \"the number of iterations.\", ConvergenceWarning)\n"
     ]
    },
    {
     "data": {
      "text/plain": [
       "0.7104933333333333"
      ]
     },
     "execution_count": 26,
     "metadata": {},
     "output_type": "execute_result"
    }
   ],
   "source": [
    "#Bagging Ensemble\n",
    "from sklearn.ensemble import BaggingClassifier\n",
    "\n",
    "bagging = BaggingClassifier(clf2)\n",
    "scores = cross_val_score(bagging, X_train, y_train, cv = 5)\n",
    "scores.mean()"
   ]
  },
  {
   "cell_type": "code",
   "execution_count": 27,
   "metadata": {},
   "outputs": [
    {
     "data": {
      "text/plain": [
       "0.6280933333333333"
      ]
     },
     "execution_count": 27,
     "metadata": {},
     "output_type": "execute_result"
    }
   ],
   "source": [
    "# Adaboost algorithm\n",
    "from sklearn.ensemble import AdaBoostClassifier\n",
    "\n",
    "adabooster = AdaBoostClassifier(n_estimators = 50)\n",
    "scores = cross_val_score(adabooster, X_train, y_train, cv=5)\n",
    "scores.mean()"
   ]
  }
 ],
 "metadata": {
  "kernelspec": {
   "display_name": "Python 3",
   "language": "python",
   "name": "python3"
  },
  "language_info": {
   "codemirror_mode": {
    "name": "ipython",
    "version": 3
   },
   "file_extension": ".py",
   "mimetype": "text/x-python",
   "name": "python",
   "nbconvert_exporter": "python",
   "pygments_lexer": "ipython3",
   "version": "3.7.0"
  }
 },
 "nbformat": 4,
 "nbformat_minor": 2
}
